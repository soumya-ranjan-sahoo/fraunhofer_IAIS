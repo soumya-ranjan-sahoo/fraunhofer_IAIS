{
 "cells": [
  {
   "cell_type": "code",
   "execution_count": 1,
   "metadata": {},
   "outputs": [],
   "source": [
    "### Imports ###\n",
    "\n",
    "import pandas as pd\n",
    "import os\n",
    "import numpy as np\n",
    "from ast import literal_eval\n",
    "import ast\n",
    "\n",
    "### Changing the work directory ###\n",
    "\n",
    "\"\"\"\n",
    "Kindly change your working directory here \n",
    "\"\"\"\n",
    "os.chdir(\"D:\\\\UniSaarland\\\\incar-dialogue\")"
   ]
  },
  {
   "cell_type": "code",
   "execution_count": 2,
   "metadata": {},
   "outputs": [],
   "source": [
    "### Upload the json files ###\n",
    "\n",
    "\"\"\"\n",
    "I have read the json files as pandas dataframe for pre-processing \n",
    "\"\"\"\n",
    "train_df = pd.read_json('train.json')\n",
    "valid_df = pd.read_json('val.json')\n",
    "test_df = pd.read_json('test.json')\n",
    "train_df = train_df.transpose()\n",
    "valid_df = valid_df.transpose()\n",
    "test_df = test_df.transpose()\n",
    "#train_df.head()\n"
   ]
  },
  {
   "cell_type": "code",
   "execution_count": 3,
   "metadata": {},
   "outputs": [],
   "source": [
    "class BuildDataset:\n",
    "    \"\"\"\n",
    "    Contains methods for building the datasets for train, valid and test \n",
    "    \"\"\"\n",
    "    \n",
    "    def __init__(self):\n",
    "        pass\n",
    "    \n",
    "    def GenerateLabels(self,df):\n",
    "        \"\"\"\"\n",
    "        This method generates labels for every utterance using the reference entities and the knowledge graph \n",
    "        \n",
    "        Arguments:\n",
    "        df : the dataframe for which labels are to be generated \n",
    "        \"\"\"\n",
    "        labels = []\n",
    "        for index, row in df.iterrows():\n",
    "            labels_kg = []\n",
    "            if row[\"reference-entities\"] == []:\n",
    "                 row[\"labels\"] = []\n",
    "            else:\n",
    "                for entity in row[\"reference-entities\"]:\n",
    "                    for triple in row[\"kg\"]:\n",
    "                        if entity in triple:\n",
    "                            labels_kg.append(triple)\n",
    "            labels.append(labels_kg)\n",
    "        df[\"labels\"] = labels\n",
    "        return df\n",
    "    \n",
    "    \n",
    "    def PreprocessDataset(self,df):\n",
    "        \n",
    "        \"\"\"\"\n",
    "        This method creates context for utterances in a given conversation \n",
    "        \n",
    "        Arguments:\n",
    "        df : the dataframe to be pre-processed \n",
    "        \"\"\"\n",
    "        \n",
    "        cols = ['task', 'utterance', 'context','reference-entities','kg']\n",
    "        data = []\n",
    "        for rowNumber, conversation in enumerate(df.utterances):\n",
    "            context = []\n",
    "            for numberofUtterances, utterance in enumerate(conversation):\n",
    "                if numberofUtterances == 0 :\n",
    "                    data.append([df.task.iloc[rowNumber],utterance[\"user\"],[],utterance[\"reference_entities\"],df.kg.iloc[rowNumber]])\n",
    "                    context.append([utterance[\"user\"],utterance[\"response\"]])\n",
    "\n",
    "                else:\n",
    "                    data.append([df.task.iloc[rowNumber],utterance[\"user\"],literal_eval(','.join(map(str, context))),utterance[\"reference_entities\"],df.kg.iloc[rowNumber]])\n",
    "                    context.append([utterance[\"user\"],utterance[\"response\"]])\n",
    "\n",
    "        df_processed = pd.DataFrame(data,columns=cols)\n",
    "        #df_processed['context'] = df_processed['context'].apply(ast.literal_eval)\n",
    "        df_processed['context'] = df_processed['context'].map(np.ravel)\n",
    "        print(type(df_processed))\n",
    "        df_final = self.GenerateLabels(df_processed)\n",
    "        \n",
    "        return df_final \n",
    "    \n",
    "\n",
    "        \n"
   ]
  },
  {
   "cell_type": "code",
   "execution_count": 4,
   "metadata": {},
   "outputs": [
    {
     "name": "stdout",
     "output_type": "stream",
     "text": [
      "<class 'pandas.core.frame.DataFrame'>\n",
      "<class 'pandas.core.frame.DataFrame'>\n",
      "<class 'pandas.core.frame.DataFrame'>\n",
      "Datasets created and saved ...\n"
     ]
    }
   ],
   "source": [
    "### pre-process the datasets by initializing the BuildDataset class ###\n",
    "buildDataset = BuildDataset()\n",
    "df_train = buildDataset.PreprocessDataset(train_df)\n",
    "df_valid = buildDataset.PreprocessDataset(valid_df)\n",
    "df_test = buildDataset.PreprocessDataset(test_df)\n",
    "\n",
    "### save the datasets as .csv files ###\n",
    "df_train.to_csv(\"train.csv\",index = False)\n",
    "df_valid.to_csv(\"valid.csv\",index = False)\n",
    "df_test.to_csv(\"test.csv\",index = False)\n",
    "\n",
    "print(\"Datasets created and saved ...\")\n"
   ]
  }
 ],
 "metadata": {
  "kernelspec": {
   "display_name": "Python 3 (ipykernel)",
   "language": "python",
   "name": "python3"
  },
  "language_info": {
   "codemirror_mode": {
    "name": "ipython",
    "version": 3
   },
   "file_extension": ".py",
   "mimetype": "text/x-python",
   "name": "python",
   "nbconvert_exporter": "python",
   "pygments_lexer": "ipython3",
   "version": "3.7.0"
  }
 },
 "nbformat": 4,
 "nbformat_minor": 2
}
